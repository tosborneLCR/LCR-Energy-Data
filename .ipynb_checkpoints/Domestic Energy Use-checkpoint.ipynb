{
 "cells": [
  {
   "cell_type": "markdown",
   "id": "620ac25d-693d-4264-bd1d-8adb187ed67a",
   "metadata": {},
   "source": [
    "# Energy Use in Liverpool City Region\n",
    "This notebook uses some Python tools to display gas and electricity use in liverpool city region.\n"
   ]
  },
  {
   "cell_type": "code",
   "execution_count": 2,
   "id": "90e600e2-60c6-45fd-8287-0a9454b95407",
   "metadata": {},
   "outputs": [],
   "source": [
    "import pandas as pd ##Pandas to manipulate data\n",
    "import geopandas as gpd ##GeoPandas to manipulate GeoSpacial data\n",
    "import folium ##Folium to create interactive maps\n",
    "import numpy as np ##For a number of useful mathematical functions \n",
    "import requests as rq\n",
    "from shapely.geometry import box, polygon ##Use this to create the grid covering LCR"
   ]
  },
  {
   "cell_type": "markdown",
   "id": "5163789b-d1db-4107-bc15-393b9ed52fae",
   "metadata": {},
   "source": [
    "We are using the follow sources of data\n",
    "1. Lower and Middle Super Output Areas electricity consumption https://www.gov.uk/government/statistics/lower-and-middle-super-output-areas-electricity-consumption\n",
    "    * LSOA Domestic Electricity 2010 to 2022\n",
    "    * MSOA Non-Domestic Electricity 2010 to 2022\n",
    "2. Lower and Middle Super Output Areas gas consumption https://www.gov.uk/government/statistics/lower-and-middle-super-output-areas-gas-consumption\n",
    "    * LSOA Domestic Gas 2010 to 2022\n",
    "    * MSOA Non-Domestic Gas 2010 to 2022\n",
    "\n",
    "Geospatial data giving the boundaries of all LSOAs and MSOAs are provided by the ONS. We also need to look up which output areas are in Liverpool City Region. "
   ]
  },
  {
   "cell_type": "code",
   "execution_count": 14,
   "id": "144bac27-6aff-4a55-8057-55bca852c315",
   "metadata": {
    "scrolled": true
   },
   "outputs": [],
   "source": [
    "lsoa_lep_lookup = pd.read_csv('data/Lower_layer_Super_Output_Area_(2021)_to_Local_Enterprise_Partnership_(December_2022)_Lookup_in_England_(V2).csv') #Use this dataset to find out which LSOAs are in LCR, from https://geoportal.statistics.gov.uk/\n",
    "lsoa_boundaries = gpd.read_file('data/Lower_layer_Super_Output_Areas_2021_EW_BGC_V3_-3320468682147951291.geojson') #Boundaries of all LSOAs in england from https://geoportal.statistics.gov.uk/\n",
    "lsoa_elc_data = pd.read_excel('data/LSOA_domestic_elec_2010-22.xlsx',sheet_name=\"2022\",skiprows=4) #Domestic electricity use across England https://www.gov.uk/government/statistics/lower-and-middle-super-output-areas-electricity-consumption\n",
    "lsoa_gas_data = pd.read_excel(\"data/LSOA_domestic_gas_2010-2022.xlsx\",sheet_name=\"2022\",skiprows=4) #Domestic gas use across England https://www.gov.uk/government/statistics/lower-and-middle-super-output-areas-gas-consumption"
   ]
  },
  {
   "cell_type": "code",
   "execution_count": 6,
   "id": "756dd5fe-28ca-4bc9-8028-94afba6f5a41",
   "metadata": {},
   "outputs": [],
   "source": [
    "lsoa_lcr_lookup = lsoa_lep_lookup[lsoa_lep_lookup['LEP22CD1']=='E37000022'] #Returns only those LSOAs which are in Liverpool City Region"
   ]
  },
  {
   "cell_type": "code",
   "execution_count": 7,
   "id": "660d78f9-ee91-40f6-a57a-8cc48da26744",
   "metadata": {},
   "outputs": [],
   "source": [
    "lcr_lsoa_boundaries=lsoa_boundaries.merge(lsoa_lcr_lookup,how='inner',on='LSOA21CD')[['LSOA21CD','LSOA21NM_x','BNG_E','BNG_N','LONG','LAT','GlobalID','geometry']] #Returns the boundaries of LSOAs in LCR\n",
    "lcr_lsoa_boundaries.rename(columns={\"LSOA21NM_x\":\"LSOA21NM\"},inplace=True) #Renames columns to more sensible name"
   ]
  },
  {
   "cell_type": "code",
   "execution_count": 8,
   "id": "2fb6d7a9-39eb-4ecf-bf80-cd520cab3931",
   "metadata": {},
   "outputs": [],
   "source": [
    "lsoa_elc_data.rename(columns={\n",
    "    \"Number\\nof meters\":\"Number of Electric Meters\",\n",
    "    \"Total \\nconsumption\\n(kWh)\":\"Total Electricity Use\",\n",
    "    \"Mean \\nconsumption\\n(kWh per meter)\":\"Mean Electricity Use\",\n",
    "    \"Median \\nconsumption\\n(kWh per meter)\":\"Median Electricity Use\"},\n",
    "                     inplace=True) #Renames columns\n",
    "lsoa_gas_data.rename(columns={\n",
    "    \"Number\\nof meters\\n\":\"Number of Gas Meters\",\n",
    "    \"Total \\nconsumption\\n(kWh)\":\"Total Gas Use\",\n",
    "    \"Mean \\nconsumption\\n(kWh per meter)\":\"Mean Gas Use\",\n",
    "    \"Median \\nconsumption\\n(kWh per meter)\":\"Median Gas Use\",\n",
    "    \"Number of\\nnon-consuming meters\":\"Unused Gas Meters\"},\n",
    "                     inplace=True) #Renames columns\n",
    "lcr_lsoa_elc_data = pd.merge(lsoa_elc_data,lcr_lsoa_boundaries[['LSOA21CD']],left_on=\"LSOA code\",right_on=\"LSOA21CD\",how='inner') #Returns electricity per LSOA for LCR only\n",
    "lcr_lsoa_elc_data.drop(\"LSOA21CD\",axis=\"columns\",inplace=True) #Drops duplicate columns \n",
    "lcr_lsoa_gas_data = pd.merge(lsoa_gas_data,lcr_lsoa_boundaries[['LSOA21CD']],left_on=\"LSOA code\",right_on=\"LSOA21CD\",how='inner')\n",
    "lcr_lsoa_gas_data.drop(\"LSOA21CD\",axis=\"columns\",inplace=True) #Drops duplicate columns\n",
    "lcr_lsoa_energy_data=pd.merge(lcr_lsoa_elc_data,lcr_lsoa_gas_data[[\"LSOA code\",\"Number of Gas Meters\",\"Total Gas Use\",\"Mean Gas Use\",\"Unused Gas Meters\"]],on=\"LSOA code\",how=\"inner\") #Creates one file with both electric and gas data"
   ]
  },
  {
   "cell_type": "code",
   "execution_count": 9,
   "id": "9a078218-0a53-4750-b575-bacadabe0150",
   "metadata": {},
   "outputs": [],
   "source": [
    "##Define a function which takes a GeoDataFrame and returns an nxm grid of sqaures covering the entire area. \n",
    "def grid(geo_data,n):\n",
    "    bounds=geo_data.total_bounds\n",
    "    cell_size=(bounds[2]-bounds[0])/n\n",
    "    grid_cells=[]\n",
    "    for x0 in np.arange(bounds[0],bounds[2],cell_size):\n",
    "        for y0 in np.arange(bounds[1],bounds[3],cell_size):\n",
    "            grid_cells.append(box(x0,y0,x0+cell_size,y0+cell_size))\n",
    "    return gpd.GeoDataFrame(grid_cells,columns=['geometry'],crs=geo_data.crs)"
   ]
  },
  {
   "cell_type": "code",
   "execution_count": 75,
   "id": "8a145fda-98e5-4b68-8736-b527255febf4",
   "metadata": {},
   "outputs": [],
   "source": [
    "lcr_grid=grid(lcr_lsoa_boundaries,30) #Create a grid covering LCR "
   ]
  },
  {
   "cell_type": "code",
   "execution_count": 76,
   "id": "4c8a1561-1865-470a-bd5c-9a982e98ea1b",
   "metadata": {},
   "outputs": [],
   "source": [
    "#Calculate the total energy use in each grid. This is done by finding what proportion of each LSOA is in each grid sqaure and then assigning that proportion of energy use in that LSOA to that grid sqaure. \n",
    "drop_rows = [] #Use this to keep track of which cells are empty, so we can remove them. \n",
    "for i in lcr_grid.index: #Iterate over each grid tile\n",
    "    intersect = gpd.overlay(lcr_grid.iloc[[i]],lcr_lsoa_boundaries) #This creates a GeoDataFrame with a polygon for each LSOA which intersects the grid tile, clipped to the boundaries of the tile. \n",
    "    if intersect.empty: #Check if no intersecting LSOAs \n",
    "        drop_rows.append(i) #If so remember this so we can remove it at the end. \n",
    "    else: #Otherwise go on to calculate the energy use. \n",
    "        elc_use=0 \n",
    "        gas_use=0 \n",
    "        for j in intersect.index: #Look at each LSOA which intersects the tile\n",
    "            lsoa=intersect.loc[j][\"LSOA21CD\"] #Find the code of the LSOA\n",
    "            intersect_area=intersect.loc[[j]][\"geometry\"].area #Find the area of the LSOA which intersects the tile\n",
    "            lsoa_area=lcr_lsoa_boundaries[lcr_lsoa_boundaries[\"LSOA21CD\"]==lsoa].area #Find the total area of the LSOA\n",
    "            proportion=intersect_area.iloc[0]/lsoa_area.iloc[0] #The proportion of the LSOA within the tile\n",
    "            lsoa_elc_use=lcr_lsoa_elc_data[lcr_lsoa_elc_data[\"LSOA code\"]==lsoa][\"Total Electricity Use\"].iloc[0] #The total elctricity use in the LSOA\n",
    "            lsoa_gas_use=lcr_lsoa_gas_data[lcr_lsoa_gas_data[\"LSOA code\"]==lsoa][\"Total Gas Use\"].iloc[0] #Total gas use in the LSOA\n",
    "            elc_use=elc_use + lsoa_elc_use*proportion #Add the relevant proportion of electricity to our overall total for the tile. \n",
    "            gas_use=gas_use + lsoa_gas_use*proportion #same for gas. \n",
    "        lcr_grid.at[i,\"total electricity use\"]=elc_use #Assgin the calculated electric use to the grid tile\n",
    "        lcr_grid.at[i,\"total gas use\"]=gas_use #Assign the calculate dgas use to the grid tile\n",
    "lcr_grid.drop(drop_rows,inplace=True) #Drop empty cells \n",
    "lcr_grid.reset_index(inplace=True) #Take the index and create a new column with the same values, i need this properly assign the right numbers to the right tiles in the map, proabably so way around this. "
   ]
  },
  {
   "cell_type": "code",
   "execution_count": 77,
   "id": "e2a0e290-533b-4b83-a4f7-d2103aa268b2",
   "metadata": {},
   "outputs": [
    {
     "data": {
      "text/plain": [
       "<folium.map.LayerControl at 0x7f58192a8dc0>"
      ]
     },
     "execution_count": 77,
     "metadata": {},
     "output_type": "execute_result"
    }
   ],
   "source": [
    "#Creates a folium map with 4 layers: LSOA electric and gas use and Electric and Gas density maps based on the grid above. \n",
    "map = folium.Map(location=[53.41409787567685, -2.9965689152099486]) #Create the map, centred on liverpool. \n",
    "\n",
    "#Here we add a layer\n",
    "folium.Choropleth(                                      #Creates a Choropleth data visualisation\n",
    "    geo_data=lcr_lsoa_boundaries,                       #The underlying geographies we want to colour are the LSOA boundaries\n",
    "    data=lcr_lsoa_elc_data,                             #The data we want to visualise  \n",
    "    name=\"Total electricity Use by LSOA (kWh)\",         #The name of the layer\n",
    "    columns=[\"LSOA code\", \"Total Electricity Use\"],     #The column we want to visualise is \"total electricty use\" and the \"LSOA code\" tells us which shape on the map to assign it to   \n",
    "    key_on=\"feature.properties.LSOA21CD\",               #The shapes on the map we want to assign the colors to. \n",
    ").add_to(map)\n",
    "\n",
    "folium.Choropleth(\n",
    "    geo_data=lcr_lsoa_boundaries,\n",
    "    data=lcr_lsoa_gas_data,\n",
    "    name=\"Total gas use by LSOA (kWh)\",\n",
    "    fill_color=\"OrRd\",                                  #Show gas in red instead of blue. \n",
    "    columns=[\"LSOA code\", \"Total Gas Use\"],\n",
    "    key_on=\"feature.properties.LSOA21CD\",\n",
    ").add_to(map)\n",
    "folium.Choropleth(\n",
    "    geo_data=lcr_grid,\n",
    "    data=lcr_grid,\n",
    "    name=\"Electricity Density\",\n",
    "    nan_fill_color=\"grey\",                              #Show grid tiles which don't interesect with any LSOAs as grey. \n",
    "    columns=[\"index\", \"total electricity use\"],\n",
    "    key_on=\"feature.properties.index\",\n",
    ").add_to(map)\n",
    "folium.Choropleth(\n",
    "    geo_data=lcr_grid,\n",
    "    data=lcr_grid,\n",
    "    name=\"Gas Density\",\n",
    "    nan_fill_color=\"grey\",\n",
    "    fill_color=\"OrRd\",\n",
    "    columns=[\"index\", \"total gas use\"],\n",
    "    key_on=\"feature.properties.index\",\n",
    ").add_to(map)\n",
    "folium.LayerControl().add_to(map) #Adds layer control"
   ]
  },
  {
   "cell_type": "code",
   "execution_count": 78,
   "id": "b04b7c87-9d37-44e3-8244-4e9ee62fe65c",
   "metadata": {},
   "outputs": [],
   "source": [
    "map.save(\"EnergyUseMap.html\")"
   ]
  },
  {
   "cell_type": "code",
   "execution_count": 30,
   "id": "db86eec8-adb4-41fb-84fe-779d8fe31201",
   "metadata": {},
   "outputs": [
    {
     "data": {
      "text/plain": [
       "0    POLYGON ((320137.806 387651.820, 320129.327 38...\n",
       "Name: geometry, dtype: geometry"
      ]
     },
     "execution_count": 30,
     "metadata": {},
     "output_type": "execute_result"
    }
   ],
   "source": [
    "intersect = gpd.overlay(lcr_grid.iloc[[39]],lcr_lsoa_boundaries)\n",
    "intersect.dissolve().geometry"
   ]
  },
  {
   "cell_type": "code",
   "execution_count": 47,
   "id": "8359c6e1-c9cf-4f48-b65f-7f89ee958732",
   "metadata": {},
   "outputs": [
    {
     "data": {
      "text/html": [
       "<div>\n",
       "<style scoped>\n",
       "    .dataframe tbody tr th:only-of-type {\n",
       "        vertical-align: middle;\n",
       "    }\n",
       "\n",
       "    .dataframe tbody tr th {\n",
       "        vertical-align: top;\n",
       "    }\n",
       "\n",
       "    .dataframe thead th {\n",
       "        text-align: right;\n",
       "    }\n",
       "</style>\n",
       "<table border=\"1\" class=\"dataframe\">\n",
       "  <thead>\n",
       "    <tr style=\"text-align: right;\">\n",
       "      <th></th>\n",
       "      <th>geometry</th>\n",
       "      <th>LSOA21CD</th>\n",
       "      <th>LSOA21NM</th>\n",
       "      <th>BNG_E</th>\n",
       "      <th>BNG_N</th>\n",
       "      <th>LONG</th>\n",
       "      <th>LAT</th>\n",
       "      <th>GlobalID</th>\n",
       "    </tr>\n",
       "  </thead>\n",
       "  <tbody>\n",
       "    <tr>\n",
       "      <th>0</th>\n",
       "      <td>POLYGON ((322286.800 384719.865, 322262.000 38...</td>\n",
       "      <td>E01007262</td>\n",
       "      <td>Wirral 028C</td>\n",
       "      <td>323099</td>\n",
       "      <td>386346</td>\n",
       "      <td>-3.1572</td>\n",
       "      <td>53.36837</td>\n",
       "      <td>57ac4dfa-6b22-410e-af6e-c86ce77813cd</td>\n",
       "    </tr>\n",
       "  </tbody>\n",
       "</table>\n",
       "</div>"
      ],
      "text/plain": [
       "                                            geometry   LSOA21CD     LSOA21NM  \\\n",
       "0  POLYGON ((322286.800 384719.865, 322262.000 38...  E01007262  Wirral 028C   \n",
       "\n",
       "    BNG_E   BNG_N    LONG       LAT                              GlobalID  \n",
       "0  323099  386346 -3.1572  53.36837  57ac4dfa-6b22-410e-af6e-c86ce77813cd  "
      ]
     },
     "execution_count": 47,
     "metadata": {},
     "output_type": "execute_result"
    }
   ],
   "source": [
    "test_grid=grid(lcr_lsoa_boundaries,10)\n",
    "intersect=gpd.overlay(test_grid.iloc[[1]],lcr_lsoa_boundaries)\n",
    "intersect.dissolve()"
   ]
  },
  {
   "cell_type": "code",
   "execution_count": 48,
   "id": "fe3ce5d6-a699-43f5-88db-df2168277a1c",
   "metadata": {},
   "outputs": [
    {
     "data": {
      "text/plain": [
       "<Axes: >"
      ]
     },
     "execution_count": 48,
     "metadata": {},
     "output_type": "execute_result"
    },
    {
     "data": {
      "image/png": "[encoded data removed]",
      "text/plain": [
       "<Figure size 640x480 with 1 Axes>"
      ]
     },
     "metadata": {},
     "output_type": "display_data"
    }
   ],
   "source": [
    "test_grid.at[1,\"geometry\"]=intersect.dissolve().at[0,\"geometry\"]\n",
    "test_grid.plot()"
   ]
  },
  {
   "cell_type": "code",
   "execution_count": 72,
   "id": "f5f30fc2-7073-4f31-93fe-5cb3ef5bda63",
   "metadata": {},
   "outputs": [],
   "source": [
    "test_grid=grid(lcr_lsoa_boundaries,10)\n",
    "drop_rows = []\n",
    "for i in test_grid.index: #Iterate over each grid tile\n",
    "    intersect = gpd.overlay(test_grid.iloc[[i]],lcr_lsoa_boundaries)\n",
    "    if intersect.empty: #If no intersecting LSOAs do nothing\n",
    "        drop_rows.append(i)\n",
    "    else:\n",
    "        test_grid.at[i,\"geometry\"]=intersect.dissolve().at[0,\"geometry\"]"
   ]
  },
  {
   "cell_type": "code",
   "execution_count": 74,
   "id": "ac04556e-42ee-4ec7-b57a-6eb9c5f035e1",
   "metadata": {},
   "outputs": [
    {
     "data": {
      "text/plain": [
       "<Axes: >"
      ]
     },
     "execution_count": 74,
     "metadata": {},
     "output_type": "execute_result"
    },
    {
     "data": {
      "image/png": "[encoded data removed]",
      "text/plain": [
       "<Figure size 640x480 with 1 Axes>"
      ]
     },
     "metadata": {},
     "output_type": "display_data"
    }
   ],
   "source": [
    "test_grid.drop(drop_rows).plot()"
   ]
  },
  {
   "cell_type": "code",
   "execution_count": null,
   "id": "cc525cb9-486a-4072-a2ce-01f8f5527850",
   "metadata": {},
   "outputs": [],
   "source": []
  }
 ],
 "metadata": {
  "kernelspec": {
   "display_name": "Python 3 (ipykernel)",
   "language": "python",
   "name": "python3"
  },
  "language_info": {
   "codemirror_mode": {
    "name": "ipython",
    "version": 3
   },
   "file_extension": ".py",
   "mimetype": "text/x-python",
   "name": "python",
   "nbconvert_exporter": "python",
   "pygments_lexer": "ipython3",
   "version": "3.10.13"
  }
 },
 "nbformat": 4,
 "nbformat_minor": 5
}

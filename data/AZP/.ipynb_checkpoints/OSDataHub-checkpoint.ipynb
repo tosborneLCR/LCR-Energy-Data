{
 "cells": [
  {
   "cell_type": "code",
   "execution_count": null,
   "id": "4deb5e5b-75c8-4dd0-b4fb-ebf9d23852f6",
   "metadata": {},
   "outputs": [],
   "source": [
    "import geopandas as gpd\n",
    "import requests as rq"
   ]
  },
  {
   "cell_type": "code",
   "execution_count": null,
   "id": "24afdc9c-c85c-4b5f-9789-435f1c6ddc4b",
   "metadata": {},
   "outputs": [],
   "source": [
    "liverpool_zones = gpd.read_file('City Centre Starter Network Zones.gpkg')\n",
    "city_centre_zone = liverpool_zones[liverpool_zones['Name']=='City Centre']"
   ]
  },
  {
   "cell_type": "code",
   "execution_count": null,
   "id": "da00f839-36de-4bc2-85cc-b7c9f1686c5f",
   "metadata": {},
   "outputs": [],
   "source": [
    "url = 'https://api.os.uk/features/ngd/ofa/v1/collections/bld-fts-building-1/items?'\n",
    "i = 0\n",
    "features = []\n",
    "bounds = '333814.86404,389900.200938,335129.897774,391980.869308'\n",
    "while True:\n",
    "    response = rq.get(url, params={'key':'NSR6FRC9qmjSAf0IdHHej9UvZqz9hqd2','bbox':bounds,'offset':100*i,'crs':'http://www.opengis.net/def/crs/EPSG/0/27700','bbox-crs':'http://www.opengis.net/def/crs/EPSG/0/27700'})\n",
    "    json = response.json()\n",
    "    if json['features'] == []:\n",
    "        break\n",
    "    else:\n",
    "        features = features + json['features']\n",
    "        i = i+1"
   ]
  },
  {
   "cell_type": "code",
   "execution_count": null,
   "id": "60c6d8d5-7c7d-407a-b81e-eda0c3b84ee3",
   "metadata": {},
   "outputs": [],
   "source": [
    "gdf=gpd.GeoDataFrame.from_features(features)"
   ]
  },
  {
   "cell_type": "code",
   "execution_count": null,
   "id": "c34b4a7d-e6ab-45d7-8860-067324ab274a",
   "metadata": {},
   "outputs": [],
   "source": [
    "zone_buildings = gdf[gdf.geometry.intersects(city_centre_zone.iloc[0].geometry)]"
   ]
  },
  {
   "cell_type": "code",
   "execution_count": null,
   "id": "0dc09cc9-118c-4de4-9ad2-d553258c256d",
   "metadata": {},
   "outputs": [],
   "source": [
    "zone_buildings.plot()"
   ]
  },
  {
   "cell_type": "code",
   "execution_count": null,
   "id": "37532bea-3a23-4b8d-8164-7e92491d8f94",
   "metadata": {},
   "outputs": [],
   "source": [
    "zone_buildings[['geometry','osid','theme','isinsite','buildinguse','oslandusetiera']].to_file('zone_buildings.json')"
   ]
  },
  {
   "cell_type": "code",
   "execution_count": null,
   "id": "7ef2c068-6864-4ed0-8da2-1523c2b7704d",
   "metadata": {},
   "outputs": [],
   "source": [
    "zone_buildings.columns"
   ]
  },
  {
   "cell_type": "code",
   "execution_count": null,
   "id": "6903e1e6-e9bf-4b51-880d-d09498054e96",
   "metadata": {},
   "outputs": [],
   "source": [
    "zone_buildings"
   ]
  },
  {
   "cell_type": "code",
   "execution_count": null,
   "id": "b765a264-5806-479b-9070-65cb64e8424e",
   "metadata": {},
   "outputs": [],
   "source": []
  }
 ],
 "metadata": {
  "kernelspec": {
   "display_name": "Python 3 (ipykernel)",
   "language": "python",
   "name": "python3"
  },
  "language_info": {
   "codemirror_mode": {
    "name": "ipython",
    "version": 3
   },
   "file_extension": ".py",
   "mimetype": "text/x-python",
   "name": "python",
   "nbconvert_exporter": "python",
   "pygments_lexer": "ipython3",
   "version": "3.10.13"
  }
 },
 "nbformat": 4,
 "nbformat_minor": 5
}
